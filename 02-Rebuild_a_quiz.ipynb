{
 "cells": [
  {
   "cell_type": "markdown",
   "metadata": {},
   "source": [
    "# Build a quiz - Part 2"
   ]
  },
  {
   "cell_type": "markdown",
   "metadata": {},
   "source": [
    "Below is the code we wrote yesterday, that asks three questions to the user and allows up to 3 wrong answers :"
   ]
  },
  {
   "cell_type": "code",
   "execution_count": null,
   "metadata": {},
   "outputs": [],
   "source": [
    "nb_of_chances = 3\n",
    "\n",
    "print(\"here is our beautiful quiz!\")\n",
    "\n",
    "if nb_of_chances > 0:\n",
    "    question1= input(\"How many times France won the Soccer World Cup?\")\n",
    "    while question1 != \"2\":\n",
    "        nb_of_chances -= 1\n",
    "        print(\"Dang, wrong answer 😓... You still have {} chances left\".format(nb_of_chances))\n",
    "        if nb_of_chances == 0:\n",
    "            print(\"Oh no! It's game over 💥\")\n",
    "            break\n",
    "        question1 = input(\"How many times France won the Soccer World Cup?\")\n",
    "\n",
    "if nb_of_chances > 0:\n",
    "    question2 = input(\"When was Apple founded?\")\n",
    "    while question2 != \"1976\":\n",
    "        nb_of_chances -=1\n",
    "        print(\"Dang, wrong answer 😓... You still have {} chances left\".format(nb_of_chances))\n",
    "        if nb_of_chances == 0:\n",
    "            print(\"Oh no! It's game over 💥\")\n",
    "            break\n",
    "        question2 = input(\"When was Apple founded?\")\n",
    "\n",
    "\n",
    "if nb_of_chances > 0:\n",
    "    question3 = input(\"Who founded SpaceX?\")\n",
    "    question3 = question3.lower()\n",
    "    while question3 != \"elon musk\":\n",
    "        nb_of_chances -=1\n",
    "        print(\"Dang, wrong answer 😓... You still have {} chances left\".format(nb_of_chances))\n",
    "        if nb_of_chances == 0:\n",
    "            print(\"Oh no! It's game over 💥\")\n",
    "            break\n",
    "        question3 = input(\"Who founded SpaceX?\")\n",
    "        question3 = question3.lower()\n",
    "\n",
    "if nb_of_chances > 0:\n",
    "    print(\"🥳 Congratulations, you've won the quiz 🥳\")\n"
   ]
  },
  {
   "attachments": {},
   "cell_type": "markdown",
   "metadata": {},
   "source": [
    "Let's refactor our quiz now that we know how to be dry.\n",
    "\n",
    "## SPECIFICATIONS (SPECS)\n",
    "\n",
    "* Your code should be DRY \n",
    "* You should use functions "
   ]
  },
  {
   "cell_type": "code",
   "execution_count": 7,
   "metadata": {},
   "outputs": [
    {
     "name": "stdout",
     "output_type": "stream",
     "text": [
      "bien joué nouvelle question\n",
      "bien joué nouvelle question\n",
      "bien joué nouvelle question\n",
      "gagné\n"
     ]
    }
   ],
   "source": [
    "def questionnaire(vies_restantes, liste_question, liste_reponse):\n",
    "    if vies_restantes > 0:\n",
    "        reponse = input(liste_question)\n",
    "        reponse = reponse.lower()\n",
    "        while reponse != liste_reponse:\n",
    "            vies_restantes -= 1\n",
    "            print(\"mauvaise réponse il vous reste {} vies\".format(vies_restantes))\n",
    "            if vies_restantes == 0:\n",
    "                print(\"Perdu\")\n",
    "                break\n",
    "            else:\n",
    "                reponse = input(liste_question)\n",
    "                reponse = reponse.lower()\n",
    "                \n",
    "                \n",
    "    print(\"bien joué nouvelle question\")\n",
    "    return vies_restantes\n",
    "        \n",
    "liste_QR = [\n",
    "    (\"mon age\", \"41\"),\n",
    "    (\"mon chien\", \"turbine\"),\n",
    "    (\"mon chat\", \"isi\")\n",
    "]\n",
    "\n",
    "vies_totales = 3\n",
    "\n",
    "for i,j in liste_QR:\n",
    "    vies_totales = questionnaire(vies_totales, i, j)\n",
    "    \n",
    "\n",
    "if vies_totales > 0:\n",
    "    print(\"gagné\")\n",
    "\n"
   ]
  }
 ],
 "metadata": {
  "kernelspec": {
   "display_name": "base",
   "language": "python",
   "name": "python3"
  },
  "language_info": {
   "codemirror_mode": {
    "name": "ipython",
    "version": 3
   },
   "file_extension": ".py",
   "mimetype": "text/x-python",
   "name": "python",
   "nbconvert_exporter": "python",
   "pygments_lexer": "ipython3",
   "version": "3.12.7"
  },
  "orig_nbformat": 2
 },
 "nbformat": 4,
 "nbformat_minor": 2
}
